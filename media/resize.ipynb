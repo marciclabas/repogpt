{
 "cells": [
  {
   "cell_type": "code",
   "execution_count": 5,
   "metadata": {},
   "outputs": [],
   "source": [
    "import cv2\n",
    "import pure_cv as vc"
   ]
  },
  {
   "cell_type": "code",
   "execution_count": 27,
   "metadata": {},
   "outputs": [
    {
     "data": {
      "text/plain": [
       "True"
      ]
     },
     "execution_count": 27,
     "metadata": {},
     "output_type": "execute_result"
    }
   ],
   "source": [
    "img = cv2.imread('ext-url.png')\n",
    "target_w, target_h = 640, 400\n",
    "img2 = vc.rescale_h(img, target_h)\n",
    "w = img2.shape[1]\n",
    "\n",
    "t = b = (target_w - w) // 2\n",
    "if 2*t < target_w:\n",
    "  t += 1\n",
    "\n",
    "out = cv2.copyMakeBorder(img2, 0, 0, t, b, cv2.BORDER_CONSTANT, value=(255, 255, 255))\n",
    "cv2.imwrite(f'ext-url-{target_w}x{target_h}.png', out)"
   ]
  }
 ],
 "metadata": {
  "kernelspec": {
   "display_name": "Python 3",
   "language": "python",
   "name": "python3"
  },
  "language_info": {
   "codemirror_mode": {
    "name": "ipython",
    "version": 3
   },
   "file_extension": ".py",
   "mimetype": "text/x-python",
   "name": "python",
   "nbconvert_exporter": "python",
   "pygments_lexer": "ipython3",
   "version": "3.10.12"
  }
 },
 "nbformat": 4,
 "nbformat_minor": 2
}
